{
 "cells": [
  {
   "cell_type": "code",
   "execution_count": 73,
   "metadata": {},
   "outputs": [],
   "source": [
    "from collections import namedtuple\n",
    "\n",
    "Set = namedtuple(\"Set\", ['index', 'cost', 'items'])\n",
    "file_location = 'data/sc_10000_0'\n",
    "with open(file_location, 'r') as input_data_file:\n",
    "    input_data = input_data_file.read()"
   ]
  },
  {
   "cell_type": "code",
   "execution_count": 77,
   "metadata": {},
   "outputs": [],
   "source": [
    "lines = input_data.split('\\n')\n",
    "\n",
    "parts = lines[0].split()\n",
    "item_count = int(parts[0])\n",
    "set_count = int(parts[1])\n",
    "\n",
    "sets = []\n",
    "for i in range(1, set_count+1):\n",
    "    parts = lines[i].split()\n",
    "    sets.append(Set(i-1, float(parts[0]), set(map(int, parts[1:]))))"
   ]
  },
  {
   "cell_type": "code",
   "execution_count": 78,
   "metadata": {},
   "outputs": [],
   "source": [
    "from greedy_solver import best_valued_set"
   ]
  },
  {
   "cell_type": "code",
   "execution_count": 79,
   "metadata": {},
   "outputs": [],
   "source": [
    "s = best_valued_set(sets, set())"
   ]
  },
  {
   "cell_type": "code",
   "execution_count": 80,
   "metadata": {},
   "outputs": [
    {
     "data": {
      "text/plain": [
       "{41,\n",
       " 75,\n",
       " 85,\n",
       " 153,\n",
       " 181,\n",
       " 217,\n",
       " 221,\n",
       " 254,\n",
       " 274,\n",
       " 291,\n",
       " 303,\n",
       " 308,\n",
       " 309,\n",
       " 329,\n",
       " 364,\n",
       " 372,\n",
       " 472,\n",
       " 600,\n",
       " 603,\n",
       " 619,\n",
       " 649,\n",
       " 711,\n",
       " 727,\n",
       " 761,\n",
       " 765,\n",
       " 780,\n",
       " 792,\n",
       " 825,\n",
       " 902,\n",
       " 957}"
      ]
     },
     "execution_count": 80,
     "metadata": {},
     "output_type": "execute_result"
    }
   ],
   "source": [
    "set(s.items)"
   ]
  },
  {
   "cell_type": "code",
   "execution_count": 81,
   "metadata": {},
   "outputs": [
    {
     "data": {
      "text/plain": [
       "0"
      ]
     },
     "execution_count": 81,
     "metadata": {},
     "output_type": "execute_result"
    }
   ],
   "source": [
    "s.index"
   ]
  },
  {
   "cell_type": "code",
   "execution_count": null,
   "metadata": {},
   "outputs": [],
   "source": []
  }
 ],
 "metadata": {
  "kernelspec": {
   "display_name": "Python 3",
   "language": "python",
   "name": "python3"
  },
  "language_info": {
   "codemirror_mode": {
    "name": "ipython",
    "version": 3
   },
   "file_extension": ".py",
   "mimetype": "text/x-python",
   "name": "python",
   "nbconvert_exporter": "python",
   "pygments_lexer": "ipython3",
   "version": "3.8.3"
  }
 },
 "nbformat": 4,
 "nbformat_minor": 4
}
